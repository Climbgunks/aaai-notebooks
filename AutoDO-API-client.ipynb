{
 "cells": [
  {
   "cell_type": "code",
   "execution_count": null,
   "id": "8c769345",
   "metadata": {},
   "outputs": [],
   "source": [
    "# example notebook for AutoDO client"
   ]
  },
  {
   "cell_type": "code",
   "execution_count": null,
   "id": "eb5a8717",
   "metadata": {},
   "outputs": [],
   "source": [
    "import requests\n",
    "import json\n",
    "from autodo_client import AutodoClient\n",
    "\n",
    "# IBM APIHub endpoint\n",
    "AUTODO_SERVER = \"https://api.ibm.com/autodo/run\"\n",
    "\n",
    "email = \"YOUR EMAIL HERE\"\n",
    "autodo_client = AutodoClient(AUTODO_SERVER, email, \n",
    "                             client_id=\"CLIENT_ID\", \n",
    "                             client_secret=\"CLIENT_SECRET\")\n"
   ]
  },
  {
   "cell_type": "code",
   "execution_count": null,
   "id": "17132454",
   "metadata": {},
   "outputs": [],
   "source": [
    "# health check\n",
    "js = autodo_client.health_check()\n",
    "print(json.dumps(js, indent=2))"
   ]
  },
  {
   "cell_type": "code",
   "execution_count": null,
   "id": "5136f062",
   "metadata": {},
   "outputs": [],
   "source": [
    "# get all submissions (filtered by email)\n",
    "submissions = autodo_client.get_submissions()\n",
    "print(json.dumps(submissions, indent=2))"
   ]
  },
  {
   "cell_type": "code",
   "execution_count": null,
   "id": "7a06bbb9",
   "metadata": {},
   "outputs": [],
   "source": [
    "# make a new submission\n",
    "params = { \"env\": \"CartPole-v0\",\n",
    "           \"action_type\": \"discrete\",\n",
    "           \"email\": \"mummert@us.ibm.com\" }\n",
    "submission = autodo_client.create_submission(params)\n",
    "print(json.dumps(submission, indent=2))"
   ]
  },
  {
   "cell_type": "code",
   "execution_count": null,
   "id": "e09eba92",
   "metadata": {},
   "outputs": [],
   "source": [
    "# get submission info\n",
    "info = autodo_client.get_submission_info(submission[\"submission_uuid\"])\n",
    "print(json.dumps(info, indent=2))"
   ]
  },
  {
   "cell_type": "code",
   "execution_count": null,
   "id": "356b6162",
   "metadata": {},
   "outputs": [],
   "source": [
    "# get submission artifacts when complete\n",
    "urls = autodo_client.get_submission_results_url(submission[\"submission_uuid\"])\n",
    "print(json.dumps(urls, indent=2))"
   ]
  },
  {
   "cell_type": "code",
   "execution_count": null,
   "id": "0ca22813",
   "metadata": {},
   "outputs": [],
   "source": [
    "# delete submission\n",
    "status = autodo_client.delete_submission(submission[\"submission_uuid\"])\n",
    "print(json.dumps(status, indent=2))"
   ]
  },
  {
   "cell_type": "code",
   "execution_count": null,
   "id": "9cd56c4b",
   "metadata": {},
   "outputs": [],
   "source": [
    "# make user env submission\n",
    "params = { \"action_type\": \"discrete\"}\n",
    "path = \"../data/dynamic/environments/inventory_test_env_v1p_plus_demand_generator.py\"\n",
    "submission = autodo_client.create_code_submission(params, path)\n",
    "print(json.dumps(submission, indent=2))"
   ]
  },
  {
   "cell_type": "code",
   "execution_count": null,
   "id": "a46bf2cb",
   "metadata": {},
   "outputs": [],
   "source": [
    "# delete all submissions\n",
    "for sub in autodo_client.get_submissions():\n",
    "    print(json.dumps(autodo_client.delete_submission(sub[\"submission_uuid\"])))"
   ]
  },
  {
   "cell_type": "code",
   "execution_count": null,
   "id": "54ba252f",
   "metadata": {},
   "outputs": [],
   "source": [
    "# get all agents\n",
    "agents = autodo_client.get_agents()\n",
    "print(json.dumps(agents, indent=2))"
   ]
  }
 ],
 "metadata": {
  "kernelspec": {
   "display_name": "autodo",
   "language": "python",
   "name": "autodo"
  },
  "language_info": {
   "codemirror_mode": {
    "name": "ipython",
    "version": 3
   },
   "file_extension": ".py",
   "mimetype": "text/x-python",
   "name": "python",
   "nbconvert_exporter": "python",
   "pygments_lexer": "ipython3",
   "version": "3.8.5"
  }
 },
 "nbformat": 4,
 "nbformat_minor": 5
}

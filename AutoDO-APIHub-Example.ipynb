{
 "cells": [
  {
   "cell_type": "code",
   "execution_count": null,
   "id": "eb5a8717",
   "metadata": {},
   "outputs": [],
   "source": [
    "#\n",
    "# This section has the variables/attributes the user should provide\n",
    "#\n",
    "\n",
    "# the following endpoint is for IBM APIHub (Developers Portal)\n",
    "AUTODO_API = \"https://api.ibm.com/autodo/run/autodo\"\n",
    "\n",
    "# email is needed for filtering of submissions, and in the future,\n",
    "# for status updates\n",
    "email = \"YOUR EMAIL HERE\"\n",
    "\n",
    "# set to None if not using API Hub\n",
    "creds = {\"X-IBM-Client-Id\": \"YOUR CLIENT ID HERE\",\n",
    "         \"X-IBM-Client-Secret\": \"YOUR CLIET SECRET HERE\" }\n"
   ]
  },
  {
   "cell_type": "code",
   "execution_count": null,
   "id": "8f4d37f6",
   "metadata": {},
   "outputs": [],
   "source": [
    "# initialization and imports\n",
    "# Should not require user modification\n",
    "\n",
    "import requests\n",
    "import json\n",
    "\n",
    "# set headers up w/ credentials\n",
    "headers = { \"Content-type\": \"application/json\" }\n",
    "if creds is not None:\n",
    "    headers.update(creds)"
   ]
  },
  {
   "cell_type": "code",
   "execution_count": null,
   "id": "3063b6d5",
   "metadata": {},
   "outputs": [],
   "source": [
    "# System Health Check\n",
    "req = requests.get(f\"{AUTODO_API}/health-check\", headers=headers)\n",
    "print(json.dumps(req.json(), indent=2))"
   ]
  },
  {
   "cell_type": "code",
   "execution_count": null,
   "id": "5136f062",
   "metadata": {},
   "outputs": [],
   "source": [
    "# get all submissions\n",
    "req = requests.get(f\"{AUTODO_API}/submissions?email={email}\", headers=headers)\n",
    "all_submissions = req.json()\n",
    "print(json.dumps(all_submissions, indent=2))"
   ]
  },
  {
   "cell_type": "code",
   "execution_count": null,
   "id": "2c441eaf",
   "metadata": {},
   "outputs": [],
   "source": [
    "# just the running submissions\n",
    "print(json.dumps([ x for x in all_submissions if x[\"status\"] == \"running\" ], indent=2))"
   ]
  },
  {
   "cell_type": "code",
   "execution_count": null,
   "id": "7a06bbb9",
   "metadata": {},
   "outputs": [],
   "source": [
    "# make a new submission\n",
    "params = { \"email\": email,\n",
    "           \"env\": \"CartPole-v0\",\n",
    "           \"action_type\": \"discrete\" }\n",
    "req = requests.post(f\"{AUTODO_API}/submissions\", headers=headers, data=json.dumps(params))\n",
    "submission = req.json()\n",
    "print(json.dumps(submission, indent=2))"
   ]
  },
  {
   "cell_type": "code",
   "execution_count": null,
   "id": "e09eba92",
   "metadata": {},
   "outputs": [],
   "source": [
    "# get submission info\n",
    "req = requests.get(f\"{AUTODO_API}/submissions/{submission['submission_uuid']}\", headers=headers)\n",
    "info = req.json()\n",
    "print(json.dumps(info, indent=2))"
   ]
  },
  {
   "cell_type": "code",
   "execution_count": null,
   "id": "356b6162",
   "metadata": {},
   "outputs": [],
   "source": [
    "# get submission artifacts when complete\n",
    "req = requests.get(f\"{AUTODO_API}/submissions/{submission['submission_uuid']}/results\",headers=headers)\n",
    "print(json.dumps(req.json(), indent=2))"
   ]
  },
  {
   "cell_type": "code",
   "execution_count": null,
   "id": "0ca22813",
   "metadata": {},
   "outputs": [],
   "source": [
    "# delete submission\n",
    "req = requests.delete(f\"{AUTODO_API}/submissions/{submission['submission_uuid']}\", headers=headers)\n",
    "print(json.dumps(req.json(), indent=2))"
   ]
  },
  {
   "cell_type": "code",
   "execution_count": null,
   "id": "9cd56c4b",
   "metadata": {},
   "outputs": [],
   "source": [
    "# make user env submission\n",
    "params = { \"action_type\": \"discrete\", \"email\": email }\n",
    "path = \"../data/dynamic/environments/inventory_test_env_v1p_plus_demand_generator.py\"\n",
    "multipart_form_data = {\n",
    "    \"env\": (\"env\", open(path, \"rb\")),\n",
    "    \"params\": (None, json.dumps(params))\n",
    "}\n",
    "req = requests.post(f\"{AUTODO_API}/code_submissions\", files=multipart_form_data, headers=creds)\n",
    "submission = req.json()\n",
    "print(json.dumps(submission, indent=2))"
   ]
  },
  {
   "cell_type": "code",
   "execution_count": null,
   "id": "a46bf2cb",
   "metadata": {},
   "outputs": [],
   "source": [
    "# delete all submissions\n",
    "req = requests.get(f\"{AUTODO_API}/submissions?email={email}\", headers=headers)\n",
    "all_submissions = req.json()\n",
    "for sub in all_submissions:\n",
    "    req = requests.delete(f'{AUTODO_API}/submissions/{sub[\"submission_uuid\"]}', headers=headers)\n",
    "    print(json.dumps(req.json(), indent=2))"
   ]
  },
  {
   "cell_type": "code",
   "execution_count": null,
   "id": "e51ae8b3",
   "metadata": {},
   "outputs": [],
   "source": [
    "# listing available agents\n",
    "req = requests.get(f\"{AUTODO_API}/agents\", headers=headers)\n",
    "print(json.dumps(req.json(), indent=2))\n"
   ]
  }
 ],
 "metadata": {
  "kernelspec": {
   "display_name": "autodo",
   "language": "python",
   "name": "autodo"
  },
  "language_info": {
   "codemirror_mode": {
    "name": "ipython",
    "version": 3
   },
   "file_extension": ".py",
   "mimetype": "text/x-python",
   "name": "python",
   "nbconvert_exporter": "python",
   "pygments_lexer": "ipython3",
   "version": "3.8.5"
  }
 },
 "nbformat": 4,
 "nbformat_minor": 5
}

{
 "cells": [
  {
   "cell_type": "code",
   "execution_count": null,
   "id": "8c769345",
   "metadata": {},
   "outputs": [],
   "source": [
    "# example notebook for autodo api usage\n",
    "\n",
    "# NOTE::\n",
    "# This notebook is primarily for local/dev use.  The ssl_verify flag\n",
    "#   is used to allow http connections.   The public version which uses\n",
    "#   APIHub does not expose this flag."
   ]
  },
  {
   "cell_type": "code",
   "execution_count": null,
   "id": "eb5a8717",
   "metadata": {},
   "outputs": [],
   "source": [
    "import requests\n",
    "import json\n",
    "\n",
    "AUTODO_API = \"https://temporal.sl.cloud9.ibm.com:8443/autodo\"\n",
    "#AUTODO_API = \"https://api.ibm.com/autodo/run/autodo\"\n",
    "\n",
    "email = \"YOUR EMAIL HERE\"\n",
    "\n",
    "headers = { \"Content-type\": \"application/json\" }\n",
    "\n",
    "# set to None if not using API Hub\n",
    "creds = {\"X-IBM-Client-Id\": \"YOUR CLIENT ID HERE\",\n",
    "         \"X-IBM-Client-Secret\": \"YOUR CLIET SECRET HERE\" }\n",
    "\n",
    "creds = None\n",
    "\n",
    "if creds is not None:\n",
    "    headers.update(creds)\n",
    "    \n",
    "# if running w/ a self-signed ssl certificate, the following will disable verification and hide warnings\n",
    "ssl_verify = False\n",
    "from requests.packages.urllib3.exceptions import InsecureRequestWarning\n",
    "requests.packages.urllib3.disable_warnings(category=InsecureRequestWarning)\n"
   ]
  },
  {
   "cell_type": "code",
   "execution_count": null,
   "id": "0015f02b",
   "metadata": {},
   "outputs": [],
   "source": [
    "# System Health Check\n",
    "req = requests.get(f\"{AUTODO_API}/health-check\", headers=headers, verify=ssl_verify)\n",
    "print(json.dumps(req.json(), indent=2))"
   ]
  },
  {
   "cell_type": "code",
   "execution_count": null,
   "id": "5136f062",
   "metadata": {},
   "outputs": [],
   "source": [
    "# get all submissions\n",
    "# TBD:: will be per user in the future\n",
    "\n",
    "req = requests.get(f\"{AUTODO_API}/submissions?email={email}\", headers=headers, verify=ssl_verify)\n",
    "all_submissions = req.json()\n",
    "print(json.dumps(all_submissions, indent=2))"
   ]
  },
  {
   "cell_type": "code",
   "execution_count": null,
   "id": "2c441eaf",
   "metadata": {},
   "outputs": [],
   "source": [
    "# just the running submissions\n",
    "print(json.dumps([ x for x in all_submissions if x[\"status\"] == \"running\" ], indent=2))"
   ]
  },
  {
   "cell_type": "code",
   "execution_count": null,
   "id": "7a06bbb9",
   "metadata": {},
   "outputs": [],
   "source": [
    "# make a new submission\n",
    "params = { \"email\": email,\n",
    "           \"env\": \"CartPole-v0\",\n",
    "           \"action_type\": \"discrete\" }\n",
    "req = requests.post(f\"{AUTODO_API}/submissions\", headers=headers, data=json.dumps(params), verify=ssl_verify)\n",
    "submission = req.json()\n",
    "print(json.dumps(submission, indent=2))"
   ]
  },
  {
   "cell_type": "code",
   "execution_count": null,
   "id": "e09eba92",
   "metadata": {},
   "outputs": [],
   "source": [
    "# get submission info\n",
    "req = requests.get(f\"{AUTODO_API}/submissions/{submission['submission_uuid']}\", headers=headers, verify=ssl_verify)\n",
    "info = req.json()\n",
    "print(json.dumps(info, indent=2))"
   ]
  },
  {
   "cell_type": "code",
   "execution_count": null,
   "id": "356b6162",
   "metadata": {},
   "outputs": [],
   "source": [
    "# get submission artifacts when complete\n",
    "req = requests.get(f\"{AUTODO_API}/submissions/{submission['submission_uuid']}/results\",headers=headers, verify=ssl_verify)\n",
    "print(json.dumps(req.json(), indent=2))"
   ]
  },
  {
   "cell_type": "code",
   "execution_count": null,
   "id": "0ca22813",
   "metadata": {},
   "outputs": [],
   "source": [
    "# delete submission\n",
    "req = requests.delete(f\"{AUTODO_API}/submissions/{submission['submission_uuid']}\", headers=headers, verify=ssl_verify)\n",
    "print(json.dumps(req.json(), indent=2))"
   ]
  },
  {
   "cell_type": "code",
   "execution_count": null,
   "id": "9cd56c4b",
   "metadata": {},
   "outputs": [],
   "source": [
    "# make user env submission\n",
    "params = { \"action_type\": \"discrete\", \"email\": email }\n",
    "path = \"../data/dynamic/environments/inventory_test_env_v1p_plus_demand_generator.py\"\n",
    "multipart_form_data = {\n",
    "    \"env\": (\"env\", open(path, \"rb\")),\n",
    "    \"params\": (None, json.dumps(params))\n",
    "}\n",
    "req = requests.post(f\"{AUTODO_API}/code_submissions\", files=multipart_form_data, headers=creds, verify=ssl_verify)\n",
    "submission = req.json()\n",
    "print(json.dumps(submission, indent=2))"
   ]
  },
  {
   "cell_type": "code",
   "execution_count": null,
   "id": "a46bf2cb",
   "metadata": {},
   "outputs": [],
   "source": [
    "# delete all submissions\n",
    "req = requests.get(f\"{AUTODO_API}/submissions?email={email}\", headers=headers, verify=ssl_verify)\n",
    "all_submissions = req.json()\n",
    "for sub in all_submissions:\n",
    "    req = requests.delete(f'{AUTODO_API}/submissions/{sub[\"submission_uuid\"]}', headers=headers, verify=ssl_verify)\n",
    "    print(json.dumps(req.json(), indent=2))"
   ]
  },
  {
   "cell_type": "code",
   "execution_count": null,
   "id": "e51ae8b3",
   "metadata": {},
   "outputs": [],
   "source": [
    "# listing available agents\n",
    "req = requests.get(f\"{AUTODO_API}/agents\", headers=headers, verify=ssl_verify)\n",
    "print(json.dumps(req.json(), indent=2))\n"
   ]
  }
 ],
 "metadata": {
  "kernelspec": {
   "display_name": "autodo",
   "language": "python",
   "name": "autodo"
  },
  "language_info": {
   "codemirror_mode": {
    "name": "ipython",
    "version": 3
   },
   "file_extension": ".py",
   "mimetype": "text/x-python",
   "name": "python",
   "nbconvert_exporter": "python",
   "pygments_lexer": "ipython3",
   "version": "3.8.5"
  }
 },
 "nbformat": 4,
 "nbformat_minor": 5
}
